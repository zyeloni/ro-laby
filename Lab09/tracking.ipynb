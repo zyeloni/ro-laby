{
 "cells": [
  {
   "cell_type": "code",
   "execution_count": null,
   "id": "b919c5af",
   "metadata": {},
   "outputs": [],
   "source": [
    "import os\n",
    "\n",
    "path = r'C:\\Users\\Kacper\\Desktop\\RO\\Lab09'\n",
    "\n",
    "os.chdir(path)"
   ]
  },
  {
   "cell_type": "markdown",
   "id": "0e982844",
   "metadata": {},
   "source": [
    "# Optical Flow Lucas-Kanade "
   ]
  },
  {
   "cell_type": "code",
   "execution_count": null,
   "id": "e51842c6",
   "metadata": {},
   "outputs": [],
   "source": [
    "import numpy as np\n",
    "import cv2"
   ]
  },
  {
   "cell_type": "code",
   "execution_count": null,
   "id": "fde212f2",
   "metadata": {},
   "outputs": [],
   "source": [
    "corner_track_params = dict(maxCorners = 10, qualityLevel = 0.3, minDistance = 7, blockSize = 7)"
   ]
  },
  {
   "cell_type": "markdown",
   "id": "60908264",
   "metadata": {},
   "source": [
    "maxLevel - patrz https://en.wikipedia.org/wiki/Pyramid_(image_processing) \n",
    "10 - iteracje\n",
    "0.03 - epsilon"
   ]
  },
  {
   "cell_type": "code",
   "execution_count": null,
   "id": "13de6009",
   "metadata": {},
   "outputs": [],
   "source": [
    "lk_params = dict(winSize=(200,300),maxLevel = 2, criteria = (cv2.TERM_CRITERIA_EPS | cv2.TermCriteria_COUNT, 10,0.03))"
   ]
  },
  {
   "cell_type": "code",
   "execution_count": null,
   "id": "42088842",
   "metadata": {},
   "outputs": [],
   "source": [
    "cap = cv2.VideoCapture('highway2.mp4')\n",
    "ret, prev_frame = cap.read()\n",
    "prev_gray = cv2.cvtColor(prev_frame, cv2.COLOR_BGR2GRAY)\n",
    "\n",
    "#Point to track\n",
    "prevPts = cv2.goodFeaturesToTrack(prev_gray, mask = None, **corner_track_params)\n",
    "mask = np.zeros_like(prev_frame)\n",
    "while True:\n",
    "    ret, frame = cap.read()\n",
    "    frame_gray = cv2.cvtColor(frame, cv2.COLOR_BGR2GRAY)\n",
    "    nextPts, status, err = cv2.calcOpticalFlowPyrLK(prev_gray,frame_gray,prevPts,None,**lk_params)\n",
    "    good_new = nextPts[status==1]\n",
    "    good_prev = prevPts[status==1]\n",
    "    \n",
    "    for i, (new,prev) in enumerate(zip(good_new,good_prev)):\n",
    "        x_new, y_new = new.ravel()\n",
    "        x_prev, y_prev = prev.ravel()\n",
    "        \n",
    "        mask = cv2.line(mask, (int(x_new),int(y_new)),(int(x_prev),int(y_prev)),(0,255,0),3)\n",
    "        frame = cv2.circle(frame, (int(x_new),int(y_new)),8,(0,0,255),-1)\n",
    "    img = cv2.add(frame, mask)\n",
    "    cv2.imshow('tracking',img)\n",
    "    k = cv2.waitKey(30) & 0xFF\n",
    "    if k == 27:\n",
    "        break\n",
    "        \n",
    "    prev_gray = frame_gray.copy()\n",
    "    prevPts = good_new.reshape(-1,1,2)\n",
    "\n",
    "cv2.destroyAllWindows()\n",
    "cap.release()\n"
   ]
  },
  {
   "cell_type": "markdown",
   "id": "ca21e71a",
   "metadata": {},
   "source": [
    "# Dense Optical Flow in OpenCV\n",
    "algorytm Gunnar Farneback\n",
    "\n",
    "calcOpticalFlowFarneback(prev, next, flow, pyr_scale, levels, winsize, iterations, poly_n, poly_sigma, flags) -> flow\n"
   ]
  },
  {
   "cell_type": "code",
   "execution_count": null,
   "id": "add6607b",
   "metadata": {},
   "outputs": [],
   "source": [
    "import cv2 \n",
    "import numpy as np\n",
    "\n",
    "cap = cv2.VideoCapture('highway2.mp4')\n",
    "ret, frame1 = cap.read()\n",
    "\n",
    "\n",
    "prevImg = cv2.cvtColor(frame1,cv2.COLOR_BGR2GRAY)\n",
    "\n",
    "hsv_mask = np.zeros_like(frame1)\n",
    "hsv_mask[:,:,1] = 255\n",
    "\n",
    "while True:\n",
    "    ret, frame2 = cap.read()\n",
    "    nextImg = cv2.cvtColor(frame2,cv2.COLOR_BGR2GRAY)\n",
    "    \n",
    "    flow = cv2.calcOpticalFlowFarneback(prevImg,nextImg, None, 0.5, 3, 15, 3, 5, 1.2, 0)\n",
    "    \n",
    "    \n",
    "    mag, ang = cv2.cartToPolar(flow[:,:,0], flow[:,:,1],angleInDegrees=True)\n",
    "    hsv_mask[:,:,0] = ang/2\n",
    "    hsv_mask[:,:,2] = cv2.normalize(mag,None,0,255,cv2.NORM_MINMAX)\n",
    "    \n",
    "    # Convert back to BGR to show with imshow from cv\n",
    "    bgr = cv2.cvtColor(hsv_mask,cv2.COLOR_HSV2BGR)\n",
    "    cv2.imshow('frame2',bgr)\n",
    "    \n",
    "    k = cv2.waitKey(30) & 0xff\n",
    "    if k == 27:\n",
    "        break\n",
    "    \n",
    "    # Set the Previous image as the next iamge for the loop\n",
    "    prevImg = nextImg\n",
    "\n",
    "    \n",
    "cap.release()\n",
    "cv2.destroyAllWindows()"
   ]
  },
  {
   "cell_type": "markdown",
   "id": "08b6e617",
   "metadata": {},
   "source": [
    "# Tracking in OpenCV"
   ]
  },
  {
   "cell_type": "code",
   "execution_count": null,
   "id": "abfd25f6",
   "metadata": {},
   "outputs": [],
   "source": [
    "tracker = cv2.TrackerMIL_create()\n",
    "#tracker = cv2.TrackerKCF_create()\n",
    "\n",
    "cap = cv2.VideoCapture('highway.mp4')\n",
    "\n",
    "ret, frame3 = cap.read()\n",
    "\n",
    "roi = cv2.selectROI(frame3, False)\n",
    "\n",
    "ret = tracker.init(frame3, roi)\n",
    "\n",
    "while True:\n",
    "    ret, frame3 = cap.read()\n",
    "\n",
    "    success, roi = tracker.update(frame3)\n",
    "    \n",
    "    (x,y,w,h) = tuple(map(int,roi))\n",
    "    \n",
    "    if success:\n",
    "        # Tracking success\n",
    "        p1 = (x, y)\n",
    "        p2 = (x+w, y+h)\n",
    "        cv2.rectangle(frame3, p1, p2, (0,255,0), 3)\n",
    "    else :\n",
    "        # Tracking failure\n",
    "        cv2.putText(frame3, \"Failure to Detect Tracking!!\", (100,200), cv2.FONT_HERSHEY_SIMPLEX, 1,(0,0,255),3)\n",
    "\n",
    "    cv2.imshow(\"tracking\", frame3)\n",
    "\n",
    "    # Exit if ESC pressed\n",
    "    k = cv2.waitKey(1) & 0xff\n",
    "    if k == 27 : \n",
    "        break\n",
    "cap.release()\n",
    "cv2.destroyAllWindows()"
   ]
  },
  {
   "cell_type": "code",
   "execution_count": null,
   "id": "d9879296",
   "metadata": {},
   "outputs": [],
   "source": [
    "cap = cv2.VideoCapture('highway2.mp4')\n",
    "ret, prev_frame = cap.read()\n",
    "prev_gray = cv2.cvtColor(prev_frame, cv2.COLOR_BGR2GRAY)\n",
    "\n",
    "#Point to track\n",
    "prevPts = cv2.goodFeaturesToTrack(prev_gray, mask = None, **corner_track_params)\n",
    "mask = np.zeros_like(prev_frame)\n",
    "while True:\n",
    "    ret, frame = cap.read()\n",
    "    frame_gray = cv2.cvtColor(frame, cv2.COLOR_BGR2GRAY)\n",
    "    nextPts, status, err = cv2.calcOpticalFlowPyrLK(prev_gray,frame_gray,prevPts,None,**lk_params)\n",
    "    good_new = nextPts[status==1]\n",
    "    good_prev = prevPts[status==1]\n",
    "    \n",
    "    for i, (new,prev) in enumerate(zip(good_new,good_prev)):\n",
    "        x_new, y_new = new.ravel()\n",
    "        x_prev, y_prev = prev.ravel()\n",
    "        \n",
    "        mask = cv2.line(mask, (int(x_new),int(y_new)),(int(x_prev),int(y_prev)),(0,255,0),3)\n",
    "        frame = cv2.circle(frame, (int(x_new),int(y_new)),8,(0,0,255),-1)\n",
    "    img = cv2.add(frame, mask)\n",
    "    cv2.imshow('tracking',img)\n",
    "    k = cv2.waitKey(30) & 0xFF\n",
    "    if k == 27:\n",
    "        break\n",
    "        \n",
    "    prev_gray = frame_gray.copy()\n",
    "    prevPts = good_new.reshape(-1,1,2)\n",
    "\n",
    "cv2.destroyAllWindows()\n",
    "cap.release()"
   ]
  },
  {
   "cell_type": "code",
   "execution_count": null,
   "id": "1b8ede03",
   "metadata": {},
   "outputs": [],
   "source": [
    "tracker = cv2.TrackerMIL_create()\n",
    "#tracker = cv2.TrackerKCF_create()\n",
    "\n",
    "cap = cv2.VideoCapture('highway2.mp4')\n",
    "\n",
    "ret, frame3 = cap.read()\n",
    "\n",
    "trackon = false\n",
    "\n",
    "while True:\n",
    "    ret, frame3 = cap.read()\n",
    "\n",
    "    if(trackon):\n",
    "        success, roi = tracker.update(frame3)\n",
    "\n",
    "        (x,y,w,h) = tuple(map(int,roi))\n",
    "\n",
    "        if success:\n",
    "            # Tracking success\n",
    "            p1 = (x, y)\n",
    "            p2 = (x+w, y+h)\n",
    "            cv2.rectangle(frame3, p1, p2, (0,255,0), 3)\n",
    "        else :\n",
    "            # Tracking failure\n",
    "            cv2.putText(frame3, \"Failure to Detect Tracking!!\", (100,200), cv2.FONT_HERSHEY_SIMPLEX, 1,(0,0,255),3)\n",
    "\n",
    "    cv2.imshow(\"tracking\", frame3)\n",
    "\n",
    "    # Exit if ESC pressed\n",
    "    k = cv2.waitKey(1) & 0xff\n",
    "    if k == 27 :\n",
    "        break\n",
    "        \n",
    "    if k == 32 :\n",
    "        roi = cv2.selectROI(frame3, False)\n",
    "        ret = tracker.init(frame3, roi)\n",
    "        \n",
    "cap.release()\n",
    "cv2.destroyAllWindows()"
   ]
  },
  {
   "cell_type": "code",
   "execution_count": null,
   "id": "3cfa9b55",
   "metadata": {},
   "outputs": [],
   "source": []
  }
 ],
 "metadata": {
  "kernelspec": {
   "display_name": "Python 3",
   "language": "python",
   "name": "python3"
  },
  "language_info": {
   "codemirror_mode": {
    "name": "ipython",
    "version": 3
   },
   "file_extension": ".py",
   "mimetype": "text/x-python",
   "name": "python",
   "nbconvert_exporter": "python",
   "pygments_lexer": "ipython3",
   "version": "3.8.8"
  }
 },
 "nbformat": 4,
 "nbformat_minor": 5
}
